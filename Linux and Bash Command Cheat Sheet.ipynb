{
 "cells": [
  {
   "cell_type": "markdown",
   "id": "b64b8ac7",
   "metadata": {},
   "source": [
    "## Getting information"
   ]
  },
  {
   "cell_type": "code",
   "execution_count": 3,
   "id": "47d211ce",
   "metadata": {},
   "outputs": [],
   "source": [
    "#returns user name<br>\n"
   ]
  },
  {
   "cell_type": "markdown",
   "id": "1bd85a38",
   "metadata": {},
   "source": [
    "=> whoami"
   ]
  },
  {
   "cell_type": "code",
   "execution_count": 4,
   "id": "5ed88081",
   "metadata": {},
   "outputs": [],
   "source": [
    "# returns username and groupid"
   ]
  },
  {
   "cell_type": "markdown",
   "id": "0751233f",
   "metadata": {},
   "source": [
    "=> id"
   ]
  },
  {
   "cell_type": "code",
   "execution_count": 5,
   "id": "a8433839",
   "metadata": {},
   "outputs": [],
   "source": [
    "# return operating system name, username, and other info"
   ]
  },
  {
   "cell_type": "markdown",
   "id": "56365d62",
   "metadata": {},
   "source": [
    "=> uname -a"
   ]
  },
  {
   "cell_type": "code",
   "execution_count": 6,
   "id": "e743500d",
   "metadata": {},
   "outputs": [],
   "source": [
    "# display reference manual for a command"
   ]
  },
  {
   "cell_type": "markdown",
   "id": "40e1494c",
   "metadata": {},
   "source": [
    "=> man top"
   ]
  },
  {
   "cell_type": "code",
   "execution_count": 7,
   "id": "d0e0d0ec",
   "metadata": {},
   "outputs": [],
   "source": [
    "# get help on a command"
   ]
  },
  {
   "cell_type": "markdown",
   "id": "7f82504d",
   "metadata": {},
   "source": [
    "=> curl --help"
   ]
  },
  {
   "cell_type": "code",
   "execution_count": 9,
   "id": "67fcd8fa",
   "metadata": {},
   "outputs": [],
   "source": [
    "# return the current date and time"
   ]
  },
  {
   "cell_type": "markdown",
   "id": "b6074e0c",
   "metadata": {},
   "source": [
    "=> date"
   ]
  },
  {
   "cell_type": "markdown",
   "id": "7ae8f12d",
   "metadata": {},
   "source": [
    "## Monitoring performance and status"
   ]
  },
  {
   "cell_type": "code",
   "execution_count": 10,
   "id": "6cc8a6f7",
   "metadata": {},
   "outputs": [],
   "source": [
    "# list selection of or all running processes and their PIDs"
   ]
  },
  {
   "cell_type": "markdown",
   "id": "ce07516c",
   "metadata": {},
   "source": [
    "ps  \n",
    "ps -e "
   ]
  },
  {
   "cell_type": "code",
   "execution_count": 11,
   "id": "27ad955e",
   "metadata": {},
   "outputs": [],
   "source": [
    "# display resource usage"
   ]
  },
  {
   "cell_type": "markdown",
   "id": "63301bf7",
   "metadata": {},
   "source": [
    "top  "
   ]
  },
  {
   "cell_type": "code",
   "execution_count": 12,
   "id": "21fc1a9f",
   "metadata": {},
   "outputs": [],
   "source": [
    "# list mounted file systems and usage"
   ]
  },
  {
   "cell_type": "markdown",
   "id": "b5122646",
   "metadata": {},
   "source": [
    "df"
   ]
  },
  {
   "cell_type": "markdown",
   "id": "6345e49e",
   "metadata": {},
   "source": [
    "## Working with files"
   ]
  },
  {
   "cell_type": "code",
   "execution_count": 13,
   "id": "0baadec4",
   "metadata": {},
   "outputs": [],
   "source": [
    "# copy a file"
   ]
  },
  {
   "cell_type": "markdown",
   "id": "c6b5998d",
   "metadata": {},
   "source": [
    "cp file.txt new_path/new_name.txt"
   ]
  },
  {
   "cell_type": "code",
   "execution_count": 14,
   "id": "b1d9e907",
   "metadata": {},
   "outputs": [],
   "source": [
    "# change file name or path"
   ]
  },
  {
   "cell_type": "markdown",
   "id": "8803f642",
   "metadata": {},
   "source": [
    "mv this_file.txt that_path/that_file.txt"
   ]
  },
  {
   "cell_type": "code",
   "execution_count": 15,
   "id": "bc2a3c77",
   "metadata": {},
   "outputs": [],
   "source": [
    "# remove a file verbosely"
   ]
  },
  {
   "cell_type": "markdown",
   "id": "55fe4533",
   "metadata": {},
   "source": [
    "rm this_old_file.txt -v"
   ]
  },
  {
   "cell_type": "code",
   "execution_count": 16,
   "id": "9cea4782",
   "metadata": {},
   "outputs": [],
   "source": [
    "# create an empty file, or update existing file’s timestamp"
   ]
  },
  {
   "cell_type": "markdown",
   "id": "c2acd98f",
   "metadata": {},
   "source": [
    "touch a_new_file.txt  "
   ]
  },
  {
   "cell_type": "code",
   "execution_count": 17,
   "id": "241c1c2a",
   "metadata": {},
   "outputs": [],
   "source": [
    "# change/modify file permissions to ‘execute’ for all users"
   ]
  },
  {
   "cell_type": "markdown",
   "id": "937231a9",
   "metadata": {},
   "source": [
    "chmod  +x  my_script.sh"
   ]
  },
  {
   "cell_type": "code",
   "execution_count": 18,
   "id": "c97d8f02",
   "metadata": {},
   "outputs": [],
   "source": [
    "# get count of lines, words, or characters in file"
   ]
  },
  {
   "cell_type": "markdown",
   "id": "644d813e",
   "metadata": {},
   "source": [
    "wc  -l table_of_data.csv  \n",
    "wc  -w my_essay.txt  \n",
    "wc  -m some_document.txt "
   ]
  },
  {
   "cell_type": "code",
   "execution_count": 19,
   "id": "ccef078e",
   "metadata": {},
   "outputs": [],
   "source": [
    "# return lines matching a pattern from files matching a filename pattern - case insensitive and whole words only"
   ]
  },
  {
   "cell_type": "markdown",
   "id": "34659842",
   "metadata": {},
   "source": [
    "grep  -iw hello  \\*.txt "
   ]
  },
  {
   "cell_type": "code",
   "execution_count": 20,
   "id": "f9871cf7",
   "metadata": {},
   "outputs": [],
   "source": [
    "# return file names with lines matching the pattern ‘hello’ from files matching a filename pattern"
   ]
  },
  {
   "cell_type": "markdown",
   "id": "4e188796",
   "metadata": {},
   "source": [
    "grep  -l hello  \\*.txt"
   ]
  },
  {
   "cell_type": "markdown",
   "id": "2e0bc2dc",
   "metadata": {},
   "source": [
    "## Navigating and working with directories"
   ]
  },
  {
   "cell_type": "code",
   "execution_count": 21,
   "id": "530fe046",
   "metadata": {},
   "outputs": [],
   "source": [
    "# list files and directories by date, newest last"
   ]
  },
  {
   "cell_type": "markdown",
   "id": "55f81d4c",
   "metadata": {},
   "source": [
    "ls -lrt "
   ]
  },
  {
   "cell_type": "code",
   "execution_count": 22,
   "id": "57b4cbb0",
   "metadata": {},
   "outputs": [],
   "source": [
    "# find files in directory tree with suffix ‘sh’"
   ]
  },
  {
   "cell_type": "markdown",
   "id": "fecf2f1f",
   "metadata": {},
   "source": [
    "find -name '\\*.sh'"
   ]
  },
  {
   "cell_type": "code",
   "execution_count": 23,
   "id": "01454c66",
   "metadata": {},
   "outputs": [],
   "source": [
    "# return present working directory"
   ]
  },
  {
   "cell_type": "markdown",
   "id": "16016ffc",
   "metadata": {},
   "source": [
    "pwd"
   ]
  },
  {
   "cell_type": "code",
   "execution_count": 24,
   "id": "048db509",
   "metadata": {},
   "outputs": [],
   "source": [
    "# make a new directory"
   ]
  },
  {
   "cell_type": "markdown",
   "id": "71510870",
   "metadata": {},
   "source": [
    "mkdir new_folder  "
   ]
  },
  {
   "cell_type": "code",
   "execution_count": 25,
   "id": "1d90103c",
   "metadata": {},
   "outputs": [],
   "source": [
    "# change the current directory: up one level, home, or some other path"
   ]
  },
  {
   "cell_type": "markdown",
   "id": "b452213e",
   "metadata": {},
   "source": [
    "cd ../  \n",
    "cd ~ or cd  \n",
    "cd another_directory\n",
    "`\\# remove directory, verbosely`\n",
    "rmdir temp_directory -v"
   ]
  },
  {
   "cell_type": "markdown",
   "id": "f9d849eb",
   "metadata": {},
   "source": [
    "## Printing file and string contents"
   ]
  },
  {
   "cell_type": "code",
   "execution_count": 26,
   "id": "5ef94ca9",
   "metadata": {},
   "outputs": [],
   "source": [
    "# print file contents"
   ]
  },
  {
   "cell_type": "markdown",
   "id": "42228820",
   "metadata": {},
   "source": [
    "cat my_shell_script.sh "
   ]
  },
  {
   "cell_type": "code",
   "execution_count": 27,
   "id": "1c869195",
   "metadata": {},
   "outputs": [],
   "source": [
    "# print file contents page-by-page"
   ]
  },
  {
   "cell_type": "markdown",
   "id": "bcdc9128",
   "metadata": {},
   "source": [
    "more ReadMe.txt  "
   ]
  },
  {
   "cell_type": "code",
   "execution_count": 28,
   "id": "1cfd6e95",
   "metadata": {},
   "outputs": [],
   "source": [
    "# print first N lines of file"
   ]
  },
  {
   "cell_type": "markdown",
   "id": "4d64407e",
   "metadata": {},
   "source": [
    "head -10 data_table.csv"
   ]
  },
  {
   "cell_type": "code",
   "execution_count": 29,
   "id": "c0ab3c00",
   "metadata": {},
   "outputs": [],
   "source": [
    "# print last N lines of file"
   ]
  },
  {
   "cell_type": "markdown",
   "id": "5d95870d",
   "metadata": {},
   "source": [
    "tail -10 data_table.csv"
   ]
  },
  {
   "cell_type": "code",
   "execution_count": 30,
   "id": "8fef95f3",
   "metadata": {},
   "outputs": [],
   "source": [
    "# print string or variable value"
   ]
  },
  {
   "cell_type": "markdown",
   "id": "c6e2e7f8",
   "metadata": {},
   "source": [
    "echo \"I am not a robot\" \n",
    "echo \"I am $USERNAME\"  "
   ]
  },
  {
   "cell_type": "markdown",
   "id": "9e3e6e4f",
   "metadata": {},
   "source": [
    "## Compression and archiving"
   ]
  },
  {
   "cell_type": "code",
   "execution_count": 31,
   "id": "045dc4ab",
   "metadata": {},
   "outputs": [],
   "source": [
    "# archive a set of files"
   ]
  },
  {
   "cell_type": "markdown",
   "id": "c3077234",
   "metadata": {},
   "source": [
    "tar -cvf my_archive.tar.gz file1 file2 file3"
   ]
  },
  {
   "cell_type": "code",
   "execution_count": 32,
   "id": "784088c4",
   "metadata": {},
   "outputs": [],
   "source": [
    "# compress a set of files"
   ]
  },
  {
   "cell_type": "markdown",
   "id": "ff8aa8c6",
   "metadata": {},
   "source": [
    "zip my_zipped_files.zip file1 file2 \n",
    "zip my_zipped_folders.zip directory1 directory2"
   ]
  },
  {
   "cell_type": "code",
   "execution_count": 33,
   "id": "871be8ce",
   "metadata": {},
   "outputs": [],
   "source": [
    "# extract files from a compressed zip archive"
   ]
  },
  {
   "cell_type": "markdown",
   "id": "3eed379b",
   "metadata": {},
   "source": [
    "unzip my_zipped_file.zip </br>\n",
    "unzip my_zipped_file.zip -d extract_to_this_direcory"
   ]
  },
  {
   "cell_type": "markdown",
   "id": "08b79cb1",
   "metadata": {},
   "source": [
    "## Performing network operations"
   ]
  },
  {
   "cell_type": "code",
   "execution_count": 34,
   "id": "5614196d",
   "metadata": {},
   "outputs": [],
   "source": [
    "# print hostname"
   ]
  },
  {
   "cell_type": "markdown",
   "id": "d394b452",
   "metadata": {},
   "source": [
    "hostname"
   ]
  },
  {
   "cell_type": "code",
   "execution_count": 35,
   "id": "770068dd",
   "metadata": {},
   "outputs": [],
   "source": [
    "# send packets to URL and print response"
   ]
  },
  {
   "cell_type": "markdown",
   "id": "3ad85a7c",
   "metadata": {},
   "source": [
    "ping  www.google.com"
   ]
  },
  {
   "cell_type": "code",
   "execution_count": 36,
   "id": "3fdd67ba",
   "metadata": {},
   "outputs": [],
   "source": [
    "# display or configure system network interfaces"
   ]
  },
  {
   "cell_type": "markdown",
   "id": "15f91153",
   "metadata": {},
   "source": [
    "ifconfig  \n",
    "ip "
   ]
  },
  {
   "cell_type": "code",
   "execution_count": 38,
   "id": "6c4619d0",
   "metadata": {},
   "outputs": [],
   "source": [
    "# display contents of file at a URL"
   ]
  },
  {
   "cell_type": "markdown",
   "id": "65337e59",
   "metadata": {},
   "source": [
    "curl  <url>"
   ]
  },
  {
   "cell_type": "code",
   "execution_count": 39,
   "id": "b48d23bd",
   "metadata": {},
   "outputs": [],
   "source": [
    "# download file from a URL"
   ]
  },
  {
   "cell_type": "markdown",
   "id": "f1bca446",
   "metadata": {},
   "source": [
    "wget  <url>"
   ]
  },
  {
   "cell_type": "markdown",
   "id": "6b4d6cf9",
   "metadata": {},
   "source": [
    "## Bash shebang"
   ]
  },
  {
   "cell_type": "code",
   "execution_count": 40,
   "id": "a702f480",
   "metadata": {},
   "outputs": [],
   "source": [
    "#!/bin/bash"
   ]
  },
  {
   "cell_type": "markdown",
   "id": "b5a083f4",
   "metadata": {},
   "source": [
    "## Pipes and Filters"
   ]
  },
  {
   "cell_type": "code",
   "execution_count": 41,
   "id": "b8a43ee5",
   "metadata": {},
   "outputs": [],
   "source": [
    "# chain filter commands using the pipe operator"
   ]
  },
  {
   "cell_type": "markdown",
   "id": "967574c8",
   "metadata": {},
   "source": [
    "ls | sort -r  "
   ]
  },
  {
   "cell_type": "code",
   "execution_count": 42,
   "id": "a5ef52bf",
   "metadata": {},
   "outputs": [],
   "source": [
    "# pipe the output of manual page for ls to head to display the first 20 lines"
   ]
  },
  {
   "cell_type": "markdown",
   "id": "1cf14ea4",
   "metadata": {},
   "source": [
    "man ls | head -20  "
   ]
  },
  {
   "cell_type": "markdown",
   "id": "8668dfde",
   "metadata": {},
   "source": [
    "## Shell and Environment Variables"
   ]
  },
  {
   "cell_type": "code",
   "execution_count": 43,
   "id": "9ee17bdb",
   "metadata": {},
   "outputs": [],
   "source": [
    "# list all shell variables"
   ]
  },
  {
   "cell_type": "markdown",
   "id": "4c77a003",
   "metadata": {},
   "source": [
    "set"
   ]
  },
  {
   "cell_type": "code",
   "execution_count": 44,
   "id": "e3a5c5b9",
   "metadata": {},
   "outputs": [],
   "source": [
    "# define a shell variable called my_planet and assign value Earth to it"
   ]
  },
  {
   "cell_type": "markdown",
   "id": "650e2457",
   "metadata": {},
   "source": [
    "my_planet=Earth  "
   ]
  },
  {
   "cell_type": "code",
   "execution_count": 45,
   "id": "bcd43ba3",
   "metadata": {},
   "outputs": [],
   "source": [
    "# display shell variable"
   ]
  },
  {
   "cell_type": "markdown",
   "id": "1be63a00",
   "metadata": {},
   "source": [
    "echo $my_planet  "
   ]
  },
  {
   "cell_type": "code",
   "execution_count": 46,
   "id": "f83b1fe0",
   "metadata": {},
   "outputs": [],
   "source": [
    "# list all environment variables"
   ]
  },
  {
   "cell_type": "markdown",
   "id": "92dbb213",
   "metadata": {},
   "source": [
    "env"
   ]
  },
  {
   "cell_type": "code",
   "execution_count": 47,
   "id": "5643b890",
   "metadata": {},
   "outputs": [],
   "source": [
    "# environment vars: define/extend variable scope to child processes"
   ]
  },
  {
   "cell_type": "markdown",
   "id": "8d6f884b",
   "metadata": {},
   "source": [
    "export my_planet  \n",
    "export my_galaxy='Milky Way'"
   ]
  },
  {
   "cell_type": "markdown",
   "id": "146514e9",
   "metadata": {},
   "source": [
    "## Metacharacters"
   ]
  },
  {
   "cell_type": "code",
   "execution_count": 48,
   "id": "b7cf72bf",
   "metadata": {},
   "outputs": [],
   "source": [
    "# comments"
   ]
  },
  {
   "cell_type": "markdown",
   "id": "0dad5a8b",
   "metadata": {},
   "source": [
    "#The shell will not respond to this message"
   ]
  },
  {
   "cell_type": "code",
   "execution_count": 49,
   "id": "8239a34f",
   "metadata": {},
   "outputs": [],
   "source": [
    "# command separator"
   ]
  },
  {
   "cell_type": "markdown",
   "id": "e7f82a75",
   "metadata": {},
   "source": [
    "echo 'here are some files and folders'; ls"
   ]
  },
  {
   "cell_type": "code",
   "execution_count": 50,
   "id": "9602bcfc",
   "metadata": {},
   "outputs": [],
   "source": [
    "# file name expansion wildcard"
   ]
  },
  {
   "cell_type": "markdown",
   "id": "2001e1a1",
   "metadata": {},
   "source": [
    "ls *.json  "
   ]
  },
  {
   "cell_type": "code",
   "execution_count": 51,
   "id": "97618e22",
   "metadata": {},
   "outputs": [],
   "source": [
    "# single character wildcard"
   ]
  },
  {
   "cell_type": "markdown",
   "id": "1fb5bfad",
   "metadata": {},
   "source": [
    "ls file_2021-06-??.json"
   ]
  },
  {
   "cell_type": "markdown",
   "id": "43110355",
   "metadata": {},
   "source": [
    "## Quoting"
   ]
  },
  {
   "cell_type": "code",
   "execution_count": 52,
   "id": "da381069",
   "metadata": {},
   "outputs": [],
   "source": [
    "# single quotes - interpret literally"
   ]
  },
  {
   "cell_type": "markdown",
   "id": "909ef037",
   "metadata": {},
   "source": [
    "echo 'My home directory can be accessed by entering: echo $HOME'"
   ]
  },
  {
   "cell_type": "code",
   "execution_count": 53,
   "id": "cecbada7",
   "metadata": {},
   "outputs": [],
   "source": [
    "# double quotes - interpret literally, but evaluate metacharacters"
   ]
  },
  {
   "cell_type": "markdown",
   "id": "de2e88b9",
   "metadata": {},
   "source": [
    "echo \"My home directory is $HOME\""
   ]
  },
  {
   "cell_type": "code",
   "execution_count": 54,
   "id": "d9694715",
   "metadata": {},
   "outputs": [],
   "source": [
    "# backslash - escape metacharacter interpretation"
   ]
  },
  {
   "cell_type": "markdown",
   "id": "c25d971f",
   "metadata": {},
   "source": [
    "echo \"This dollar sign should render: \\$\""
   ]
  },
  {
   "cell_type": "markdown",
   "id": "9184dc07",
   "metadata": {},
   "source": [
    "## I/O Redirection"
   ]
  },
  {
   "cell_type": "code",
   "execution_count": 56,
   "id": "970a2fc5",
   "metadata": {},
   "outputs": [],
   "source": [
    "# redirect output to file"
   ]
  },
  {
   "cell_type": "markdown",
   "id": "3ea60414",
   "metadata": {},
   "source": [
    "echo 'Write this text to file x' > x"
   ]
  },
  {
   "cell_type": "code",
   "execution_count": 57,
   "id": "a7a6342b",
   "metadata": {},
   "outputs": [],
   "source": [
    "# append output to file"
   ]
  },
  {
   "cell_type": "markdown",
   "id": "43d506ca",
   "metadata": {},
   "source": [
    "echo 'Add this line to file x' >> x"
   ]
  },
  {
   "cell_type": "code",
   "execution_count": 58,
   "id": "1da2b7aa",
   "metadata": {},
   "outputs": [],
   "source": [
    "# redirect standard error to file"
   ]
  },
  {
   "cell_type": "markdown",
   "id": "e57c7033",
   "metadata": {},
   "source": [
    "bad_command_1 2> error.log"
   ]
  },
  {
   "cell_type": "code",
   "execution_count": 59,
   "id": "cf8f0738",
   "metadata": {},
   "outputs": [],
   "source": [
    "# append standard error to file"
   ]
  },
  {
   "cell_type": "markdown",
   "id": "cf3383ae",
   "metadata": {},
   "source": [
    "bad_command_2 2>> error.log  "
   ]
  },
  {
   "cell_type": "code",
   "execution_count": 60,
   "id": "884bdf40",
   "metadata": {},
   "outputs": [],
   "source": [
    "# redirect file contents to standard input"
   ]
  },
  {
   "cell_type": "markdown",
   "id": "50b54981",
   "metadata": {},
   "source": [
    "$ tr “[a-z]” “[A-Z]” < a_text_file.txt "
   ]
  },
  {
   "cell_type": "code",
   "execution_count": 61,
   "id": "a96d959b",
   "metadata": {},
   "outputs": [],
   "source": [
    "# the input redirection above is equivalent to"
   ]
  },
  {
   "cell_type": "markdown",
   "id": "985f29e2",
   "metadata": {},
   "source": [
    "$cat a_text_file.txt | tr “[a-z]” “[A-Z]”"
   ]
  },
  {
   "cell_type": "markdown",
   "id": "ae6a0234",
   "metadata": {},
   "source": [
    "## Command Substitution"
   ]
  },
  {
   "cell_type": "code",
   "execution_count": 62,
   "id": "6e57e477",
   "metadata": {},
   "outputs": [],
   "source": [
    "# capture output of a command and echo its value"
   ]
  },
  {
   "cell_type": "markdown",
   "id": "ae7882c3",
   "metadata": {},
   "source": [
    "THE_PRESENT=$(date)  \n",
    "\n",
    "echo \"There is no time like $THE_PRESENT\""
   ]
  },
  {
   "cell_type": "markdown",
   "id": "f65a46dc",
   "metadata": {},
   "source": [
    "## Command line arguments"
   ]
  },
  {
   "cell_type": "markdown",
   "id": "88db63f4",
   "metadata": {},
   "source": [
    "./My_Bash_Script.sh arg1 arg2 arg3"
   ]
  },
  {
   "cell_type": "markdown",
   "id": "bb053375",
   "metadata": {},
   "source": [
    "## Batch vs. concurrent modes"
   ]
  },
  {
   "cell_type": "code",
   "execution_count": 64,
   "id": "54259b3f",
   "metadata": {},
   "outputs": [],
   "source": [
    "# run commands sequentially"
   ]
  },
  {
   "cell_type": "markdown",
   "id": "1897ab89",
   "metadata": {},
   "source": [
    "start=$(date); \n",
    "\n",
    "./MyBigScript.sh ; end=$(date)"
   ]
  },
  {
   "cell_type": "code",
   "execution_count": 65,
   "id": "6bb71268",
   "metadata": {},
   "outputs": [],
   "source": [
    "# run commands in parallel"
   ]
  },
  {
   "cell_type": "markdown",
   "id": "2f0bbab9",
   "metadata": {},
   "source": [
    "./ETL_chunk_one_on_these_nodes.sh  & ./ETL_chunk_two_on_those_nodes.sh"
   ]
  },
  {
   "cell_type": "markdown",
   "id": "e47bf3f8",
   "metadata": {},
   "source": [
    "## Scheduling jobs with Cron"
   ]
  },
  {
   "cell_type": "code",
   "execution_count": 66,
   "id": "3bf2a0d7",
   "metadata": {},
   "outputs": [],
   "source": [
    "# open crontab editor"
   ]
  },
  {
   "cell_type": "markdown",
   "id": "42a274e3",
   "metadata": {},
   "source": [
    "crontab -e  "
   ]
  },
  {
   "cell_type": "code",
   "execution_count": 68,
   "id": "4532ed7c",
   "metadata": {},
   "outputs": [],
   "source": [
    "# job scheduling syntax\n",
    "#minute, hour, day of month, month, day of week\n",
    "# * means any"
   ]
  },
  {
   "cell_type": "markdown",
   "id": "d9a33986",
   "metadata": {},
   "source": [
    "m  h  dom  mon  dow   command "
   ]
  },
  {
   "cell_type": "code",
   "execution_count": 69,
   "id": "a34c4f6c",
   "metadata": {},
   "outputs": [],
   "source": [
    "# append the date/time to file every Sunday at 6:15 pm"
   ]
  },
  {
   "cell_type": "markdown",
   "id": "d96c59ec",
   "metadata": {},
   "source": [
    "15 18 * * 0 date >> sundays.txt"
   ]
  },
  {
   "cell_type": "code",
   "execution_count": 70,
   "id": "6956befd",
   "metadata": {},
   "outputs": [],
   "source": [
    "# run a shell script on the first minute of the first day of each month"
   ]
  },
  {
   "cell_type": "markdown",
   "id": "f4dc0091",
   "metadata": {},
   "source": [
    "1  0 1 * * ./My_Shell_Script.sh"
   ]
  },
  {
   "cell_type": "code",
   "execution_count": 71,
   "id": "a01f1104",
   "metadata": {},
   "outputs": [],
   "source": [
    "# back up your home directory every Monday at 3 am"
   ]
  },
  {
   "cell_type": "markdown",
   "id": "a52f9a7a",
   "metadata": {},
   "source": [
    "0 3 * * 1  tar -cvf my_backup_path\\my_archive.tar.gz $HOME\\"
   ]
  },
  {
   "cell_type": "code",
   "execution_count": 72,
   "id": "0c509087",
   "metadata": {},
   "outputs": [],
   "source": [
    "# deploy your cron job\n",
    "#Close the crontab editor and save the file"
   ]
  },
  {
   "cell_type": "code",
   "execution_count": 73,
   "id": "88647f3e",
   "metadata": {},
   "outputs": [],
   "source": [
    "# list all cron jobs"
   ]
  },
  {
   "cell_type": "markdown",
   "id": "b6463ce7",
   "metadata": {},
   "source": [
    "crontab -l"
   ]
  },
  {
   "cell_type": "code",
   "execution_count": null,
   "id": "9492f80d",
   "metadata": {},
   "outputs": [],
   "source": []
  }
 ],
 "metadata": {
  "kernelspec": {
   "display_name": "Python 3 (ipykernel)",
   "language": "python",
   "name": "python3"
  },
  "language_info": {
   "codemirror_mode": {
    "name": "ipython",
    "version": 3
   },
   "file_extension": ".py",
   "mimetype": "text/x-python",
   "name": "python",
   "nbconvert_exporter": "python",
   "pygments_lexer": "ipython3",
   "version": "3.10.9"
  }
 },
 "nbformat": 4,
 "nbformat_minor": 5
}
